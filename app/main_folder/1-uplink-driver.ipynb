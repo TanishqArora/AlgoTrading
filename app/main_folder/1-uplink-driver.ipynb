{
 "cells": [
  {
   "cell_type": "markdown",
   "id": "649895a9-b3ad-423a-b5fe-edc18b5e3fbe",
   "metadata": {},
   "source": [
    "# Authorization Area"
   ]
  },
  {
   "cell_type": "code",
   "execution_count": 7,
   "id": "ec33cec7-7e30-43c0-b8ae-7a90b751cbf1",
   "metadata": {},
   "outputs": [],
   "source": [
    "import urllib.parse\n",
    "import pandas as pd\n",
    "import requests\n",
    "import configparser\n",
    "import warnings\n",
    "import json\n",
    "warnings.filterwarnings('ignore')\n",
    "pd.set_option('display.max_columns', 500)"
   ]
  },
  {
   "cell_type": "code",
   "execution_count": 8,
   "id": "e58fe4ce-6866-47e9-82da-c697b4d888a9",
   "metadata": {},
   "outputs": [],
   "source": [
    "#Reading from Config file\n",
    "config = configparser.ConfigParser()\n",
    "config.read('config.cfg')\n",
    "\n",
    "#api key and api secret\n",
    "API_KEY = config.get('INDEX', 'api_key')\n",
    "SECRET_KEY = config.get('INDEX', 'secret_key')\n",
    "temp_url = config.get('INDEX', 'url')\n",
    "RURL = urllib.parse.quote(temp_url,safe=\"\") "
   ]
  },
  {
   "cell_type": "code",
   "execution_count": null,
   "id": "1683b67a-8ec9-411d-a9c2-d7ad1ca66c05",
   "metadata": {},
   "outputs": [],
   "source": [
    "uri = f'https://api-v2.upstox.com/login/authorization/dialog?response_type=code&client_id={API_KEY}&redirect_uri={RURL}'\n",
    "uri"
   ]
  },
  {
   "cell_type": "code",
   "execution_count": 10,
   "id": "8e70052a-5b75-4747-a98c-a3ce7a0ab865",
   "metadata": {},
   "outputs": [],
   "source": [
    "# Paste your code here\n",
    "code = ''"
   ]
  },
  {
   "cell_type": "code",
   "execution_count": 11,
   "id": "fb8d5b94-14c4-4bf5-a9ee-5c1cbf9c04a7",
   "metadata": {},
   "outputs": [],
   "source": [
    "URL = 'https://api-v2.upstox.com/login/authorization/token'\n",
    "\n",
    "headers = {\n",
    "    'accept':'application/json',\n",
    "    'Api-Version': '2.0',\n",
    "    'Content-Type': 'application/x-www-form-urlencoded'\n",
    "}\n",
    "\n",
    "data = {\n",
    "    'code':code,\n",
    "    'client_id': API_KEY,\n",
    "    'client_secret': SECRET_KEY,\n",
    "    'redirect_uri': temp_url,\n",
    "    'grant_type': 'authorization_code'\n",
    "}\n",
    "\n",
    "response = requests.post(URL,headers=headers, data=data)\n",
    "json_response = response.json()"
   ]
  },
  {
   "cell_type": "code",
   "execution_count": 12,
   "id": "91434b58-43f4-43d0-9af1-dedf081c7b7e",
   "metadata": {},
   "outputs": [],
   "source": [
    "with open(\"../csv/authentication.json\", \"w\") as outfile:\n",
    "    json.dump(json_response, outfile)"
   ]
  },
  {
   "cell_type": "code",
   "execution_count": null,
   "id": "698ef6f8-6fc2-4088-aa37-488a38be5e7c",
   "metadata": {},
   "outputs": [],
   "source": [
    "# Opening JSON file\n",
    "with open('../csv/authentication.json', 'r') as openfile:\n",
    "    json_response = json.load(openfile)\n",
    "\n",
    "ACCESS_TOKEN = json_response['access_token']\n",
    "print(ACCESS_TOKEN)"
   ]
  },
  {
   "cell_type": "markdown",
   "id": "2c9d1078-5d68-4b8a-b1e9-bcbcf5695740",
   "metadata": {},
   "source": [
    "------------------------------------------Autherization Completed---------------------------------------------------------------------------------------"
   ]
  },
  {
   "cell_type": "markdown",
   "id": "e737a855-ba8a-46ec-b72d-adb3608583d4",
   "metadata": {},
   "source": [
    "# Generating Instrument Files"
   ]
  },
  {
   "cell_type": "code",
   "execution_count": 15,
   "id": "1cdc60c4-417c-4a43-b2a9-17cdb075092b",
   "metadata": {},
   "outputs": [],
   "source": [
    "instruments_url = 'https://assets.upstox.com/market-quote/instruments/exchange/complete.csv.gz'\n",
    "all_symbols = pd.read_csv(instruments_url)\n",
    "all_symbols.to_csv('../csv/all_symbols.csv')"
   ]
  },
  {
   "cell_type": "code",
   "execution_count": 16,
   "id": "e5020d8b-ab9e-4edf-ba76-9983dbb08a51",
   "metadata": {},
   "outputs": [
    {
     "name": "stdout",
     "output_type": "stream",
     "text": [
      "Shape Of DataFrame: (87513, 12)\n"
     ]
    },
    {
     "data": {
      "text/html": [
       "<div>\n",
       "<style scoped>\n",
       "    .dataframe tbody tr th:only-of-type {\n",
       "        vertical-align: middle;\n",
       "    }\n",
       "\n",
       "    .dataframe tbody tr th {\n",
       "        vertical-align: top;\n",
       "    }\n",
       "\n",
       "    .dataframe thead th {\n",
       "        text-align: right;\n",
       "    }\n",
       "</style>\n",
       "<table border=\"1\" class=\"dataframe\">\n",
       "  <thead>\n",
       "    <tr style=\"text-align: right;\">\n",
       "      <th></th>\n",
       "      <th>instrument_key</th>\n",
       "      <th>exchange_token</th>\n",
       "      <th>tradingsymbol</th>\n",
       "      <th>name</th>\n",
       "      <th>last_price</th>\n",
       "      <th>expiry</th>\n",
       "      <th>strike</th>\n",
       "      <th>tick_size</th>\n",
       "      <th>lot_size</th>\n",
       "      <th>instrument_type</th>\n",
       "      <th>option_type</th>\n",
       "      <th>exchange</th>\n",
       "    </tr>\n",
       "  </thead>\n",
       "  <tbody>\n",
       "    <tr>\n",
       "      <th>0</th>\n",
       "      <td>NSE_INDEX|Nifty 50</td>\n",
       "      <td>17.0</td>\n",
       "      <td>NaN</td>\n",
       "      <td>Nifty 50</td>\n",
       "      <td>19819.95</td>\n",
       "      <td>NaT</td>\n",
       "      <td>NaN</td>\n",
       "      <td>NaN</td>\n",
       "      <td>NaN</td>\n",
       "      <td>INDEX</td>\n",
       "      <td>NaN</td>\n",
       "      <td>NSE_INDEX</td>\n",
       "    </tr>\n",
       "    <tr>\n",
       "      <th>1</th>\n",
       "      <td>NSE_INDEX|NIFTY50 EQL Wgt</td>\n",
       "      <td>NaN</td>\n",
       "      <td>NaN</td>\n",
       "      <td>NIFTY50 EQL Wgt</td>\n",
       "      <td>23526.35</td>\n",
       "      <td>NaT</td>\n",
       "      <td>NaN</td>\n",
       "      <td>NaN</td>\n",
       "      <td>NaN</td>\n",
       "      <td>INDEX</td>\n",
       "      <td>NaN</td>\n",
       "      <td>NSE_INDEX</td>\n",
       "    </tr>\n",
       "    <tr>\n",
       "      <th>2</th>\n",
       "      <td>NSE_INDEX|NIFTY100 EQL Wgt</td>\n",
       "      <td>NaN</td>\n",
       "      <td>NaN</td>\n",
       "      <td>NIFTY100 EQL Wgt</td>\n",
       "      <td>23384.40</td>\n",
       "      <td>NaT</td>\n",
       "      <td>NaN</td>\n",
       "      <td>NaN</td>\n",
       "      <td>NaN</td>\n",
       "      <td>INDEX</td>\n",
       "      <td>NaN</td>\n",
       "      <td>NSE_INDEX</td>\n",
       "    </tr>\n",
       "    <tr>\n",
       "      <th>3</th>\n",
       "      <td>NSE_INDEX|NIFTY100 LowVol30</td>\n",
       "      <td>NaN</td>\n",
       "      <td>NaN</td>\n",
       "      <td>NIFTY100 LowVol30</td>\n",
       "      <td>15179.45</td>\n",
       "      <td>NaT</td>\n",
       "      <td>NaN</td>\n",
       "      <td>NaN</td>\n",
       "      <td>NaN</td>\n",
       "      <td>INDEX</td>\n",
       "      <td>NaN</td>\n",
       "      <td>NSE_INDEX</td>\n",
       "    </tr>\n",
       "    <tr>\n",
       "      <th>4</th>\n",
       "      <td>NSE_INDEX|NIFTY Alpha 50</td>\n",
       "      <td>NaN</td>\n",
       "      <td>NaN</td>\n",
       "      <td>NIFTY Alpha 50</td>\n",
       "      <td>36197.55</td>\n",
       "      <td>NaT</td>\n",
       "      <td>NaN</td>\n",
       "      <td>NaN</td>\n",
       "      <td>NaN</td>\n",
       "      <td>INDEX</td>\n",
       "      <td>NaN</td>\n",
       "      <td>NSE_INDEX</td>\n",
       "    </tr>\n",
       "  </tbody>\n",
       "</table>\n",
       "</div>"
      ],
      "text/plain": [
       "                instrument_key  exchange_token tradingsymbol  \\\n",
       "0           NSE_INDEX|Nifty 50            17.0           NaN   \n",
       "1    NSE_INDEX|NIFTY50 EQL Wgt             NaN           NaN   \n",
       "2   NSE_INDEX|NIFTY100 EQL Wgt             NaN           NaN   \n",
       "3  NSE_INDEX|NIFTY100 LowVol30             NaN           NaN   \n",
       "4     NSE_INDEX|NIFTY Alpha 50             NaN           NaN   \n",
       "\n",
       "                name  last_price expiry  strike  tick_size  lot_size  \\\n",
       "0           Nifty 50    19819.95    NaT     NaN        NaN       NaN   \n",
       "1    NIFTY50 EQL Wgt    23526.35    NaT     NaN        NaN       NaN   \n",
       "2   NIFTY100 EQL Wgt    23384.40    NaT     NaN        NaN       NaN   \n",
       "3  NIFTY100 LowVol30    15179.45    NaT     NaN        NaN       NaN   \n",
       "4     NIFTY Alpha 50    36197.55    NaT     NaN        NaN       NaN   \n",
       "\n",
       "  instrument_type option_type   exchange  \n",
       "0           INDEX         NaN  NSE_INDEX  \n",
       "1           INDEX         NaN  NSE_INDEX  \n",
       "2           INDEX         NaN  NSE_INDEX  \n",
       "3           INDEX         NaN  NSE_INDEX  \n",
       "4           INDEX         NaN  NSE_INDEX  "
      ]
     },
     "execution_count": 16,
     "metadata": {},
     "output_type": "execute_result"
    }
   ],
   "source": [
    "all_symbols = pd.read_csv('../csv/all_symbols.csv', index_col = 0)\n",
    "all_symbols['expiry'] = pd.to_datetime(all_symbols['expiry']).apply(lambda x: x.date())\n",
    "print(f'Shape Of DataFrame: {all_symbols.shape}')\n",
    "all_symbols.head()"
   ]
  },
  {
   "cell_type": "markdown",
   "id": "e70a823c-2220-4d5a-a221-4c54397bde8a",
   "metadata": {},
   "source": [
    "------------------------------------------All Symbols Generated---------------------------------------------------------------------------------------"
   ]
  },
  {
   "cell_type": "markdown",
   "id": "2cda4eed-387d-4966-af14-47b18eb0740f",
   "metadata": {},
   "source": [
    "# Creating a protobuf py file"
   ]
  },
  {
   "cell_type": "code",
   "execution_count": 16,
   "id": "2021e357-880b-44ae-8121-f27ce2b06433",
   "metadata": {},
   "outputs": [],
   "source": [
    "import requests\n",
    "import subprocess\n",
    "from google.protobuf.compiler import plugin_pb2 as plugin"
   ]
  },
  {
   "cell_type": "code",
   "execution_count": 17,
   "id": "cd682fa5-0347-48fd-80c6-95174b3e65ba",
   "metadata": {},
   "outputs": [],
   "source": [
    "def download_proto_file(url, save_path):\n",
    "    try:\n",
    "        response = requests.get(url)\n",
    "        response.raise_for_status()\n",
    "\n",
    "        with open(save_path, 'wb') as file:\n",
    "            file.write(response.content)\n",
    "\n",
    "        print(f\"Proto file downloaded and saved to: {save_path}\")\n",
    "    except requests.exceptions.RequestException as e:\n",
    "        print(f\"Error downloading Proto file: {e}\")\n",
    "\n",
    "def generate_python_from_proto(proto_file_path, output_dir):\n",
    "    try:\n",
    "        # Run the protoc command to generate Python code\n",
    "        subprocess.run(['protoc', '--python_out', output_dir, proto_file_path], check=True)\n",
    "        print(f\"Python code generated from Proto file: {proto_file_path}\")\n",
    "    except subprocess.CalledProcessError as e:\n",
    "        print(f\"Error generating Python code from Proto file: {e}\")\n",
    "\n",
    "def download_and_generate_proto(url, proto_save_path, python_output_dir):\n",
    "    try:\n",
    "        download_proto_file(url, proto_save_path)\n",
    "        generate_python_from_proto(proto_save_path, python_output_dir)\n",
    "    except Exception as e:\n",
    "        print(f\"An error occurred: {e}\")"
   ]
  },
  {
   "cell_type": "code",
   "execution_count": 18,
   "id": "be114094-38e1-4a50-b0bd-938f5ed4e1d8",
   "metadata": {},
   "outputs": [
    {
     "name": "stdout",
     "output_type": "stream",
     "text": [
      "Proto file downloaded and saved to: ./MarketDataFeed.proto\n",
      "Python code generated from Proto file: ./MarketDataFeed.proto\n"
     ]
    }
   ],
   "source": [
    "# Replace these with your actual URLs, file paths, and directories\n",
    "proto_url = 'https://assets.upstox.com/feed/market-data-feed/v1/MarketDataFeed.proto'\n",
    "proto_save_path = './MarketDataFeed.proto'\n",
    "python_output_dir = '../main_folder'\n",
    "download_and_generate_proto(proto_url, proto_save_path, python_output_dir)\n",
    "# generate_python_from_proto(proto_save_path, python_output_dir)"
   ]
  },
  {
   "cell_type": "markdown",
   "id": "d7a19435-515b-47f5-a938-85760a2c02f3",
   "metadata": {},
   "source": [
    "# Options Trading"
   ]
  },
  {
   "cell_type": "code",
   "execution_count": 69,
   "id": "70c2a7f8-122d-4b9c-884b-7a3bd2d52b62",
   "metadata": {},
   "outputs": [],
   "source": [
    "import trade_module\n",
    "import api_methods\n",
    "import importlib\n",
    "import time\n",
    "import generate_symbols\n",
    "import exit_strategies"
   ]
  },
  {
   "cell_type": "code",
   "execution_count": null,
   "id": "83b024f3-e5c1-4296-ad8e-a97dae26190f",
   "metadata": {},
   "outputs": [],
   "source": [
    "importlib.reload(trade_module)\n",
    "importlib.reload(api_methods)\n",
    "importlib.reload(generate_symbols)\n",
    "importlib.reload(exit_strategies)\n",
    "\n",
    "Indx = 'NSE_INDEX|Nifty 50' \n",
    "expiry_week = 1\n",
    "level= '1-OTM'\n",
    "ce_pe = 'PE'\n",
    "tradingsymbol = generate_symbols.get_options_trading_symbol(Indx = Indx, expiry_week = expiry_week, level= level, ce_pe = ce_pe)\n",
    "quantity = 50\n",
    "\n",
    "print(tradingsymbol)\n",
    "\n",
    "instrument = all_symbols.dropna(subset = ['tradingsymbol'],inplace = False)[(all_symbols.dropna(subset = ['tradingsymbol'],inplace = False)['tradingsymbol'].str.startswith(tradingsymbol))]['instrument_key'].values[0]\n",
    "\n",
    "print(instrument,quantity)\n",
    "print(f'**YOU ARE PLACING {ce_pe} ORDER**')"
   ]
  },
  {
   "cell_type": "code",
   "execution_count": 144,
   "id": "aa4779c1-661d-4a6b-931e-7fc386c6cc5b",
   "metadata": {},
   "outputs": [],
   "source": [
    "# Run the below cell to create instance for the \n",
    "trade_2 = trade_module.Trade(instrument,quantity)"
   ]
  },
  {
   "cell_type": "code",
   "execution_count": null,
   "id": "11322d5e-b3ef-4517-be61-9ddb81c9dabc",
   "metadata": {},
   "outputs": [],
   "source": [
    "# Run the function from the exitstrategy class this is the strategfy to exit trade  you just have to run this cell when you want to enter a trade an you will exit the trade according to the strategy\n",
    "# make sure your websocket is working properly before entring trade\n",
    "strategy = exit_strategies.exit_strategy(trade_2,sl_percent = 0.005,target_percent = 0.005,factor = 1.01,big_move=False)\n",
    "strategy.buy_trail_stop_loss()"
   ]
  }
 ],
 "metadata": {
  "kernelspec": {
   "display_name": "Python 3 (ipykernel)",
   "language": "python",
   "name": "python3"
  },
  "language_info": {
   "codemirror_mode": {
    "name": "ipython",
    "version": 3
   },
   "file_extension": ".py",
   "mimetype": "text/x-python",
   "name": "python",
   "nbconvert_exporter": "python",
   "pygments_lexer": "ipython3",
   "version": "3.8.18"
  }
 },
 "nbformat": 4,
 "nbformat_minor": 5
}
